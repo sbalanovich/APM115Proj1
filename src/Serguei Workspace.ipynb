{
 "cells": [
  {
   "cell_type": "markdown",
   "metadata": {
    "collapsed": true
   },
   "source": [
    "#Keyboard Biometrics\n",
    "\n",
    "## SVM Approach\n",
    "\n",
    "### Problem Background\n",
    "\n",
    "The problem explored in this project is the identification of a given user based on their typing patterns. Here, we used 3 datasets (found in the data folder under the names 'keystroke0' (the CMU dataset), 'keystroke1' (the standard dataset), 'keystroke2' (the multi-password dataset), and 'keystroke3' (the demographics dataset). The latter 3 come from the [GREYC](http://www.epaymentbiometrics.ensicaen.fr/greyc-keystroke-dataset) lab.\n",
    "\n",
    "In this project, we will run an SVM classifier on several configurations. First, we will attempt to use an n-class classifier, where n is the number of users in total for the dataset. Here we will try to precisely detect from the test set which of the n users it came from. \n",
    "\n",
    "Next, we will run a two-class classifier, in an attempt to determine with a simple binary whether the input provided has come from the genuine user or from one of the impostors. This is a simpler problem because it does not need to be as specific, but it is more practical for real-world applications as keyboard biometrics are really only interesting for ensuring that the typist of the password is in fact the authenticated user.\n",
    "\n",
    "Finally, we want to detect not only the proportion of time that the classifier gets the correct answer with respect to the genuine user and the impostor, but also to actually focus in on the false positives (when an impostor gets in) and the false negatives (when the genuine user is erroneously blocked from the system). For this portion, we will attempt to construct an ROC curve to visually present the true and false positive rates for the detections.\n",
    "\n",
    "### SVM Background\n",
    "\n",
    "Support vector machines (SVMs) are supervised learning models. Given a set of training examples, each marked for belonging to one of two categories, an SVM training algorithm encodes every input as some p-dimensional vector and computes a (p-1)-dimensional hyperplane to separate these points into two groups. New datapoints are then assigned a similar p-dimensional vector which then falls one one or the other side of the hyperplane and the point is thus classified. \n",
    "\n",
    "The SVM creates a margin spearating the data. The margin is defined by the distance from the hyperplane to the nearest point on either side of the hyperplane. If the data is linearly separable, it will be possible to create a \"hard amrgin\" meaning the data will be evenly split into two halves and there will be no data in the margin at all. This is a very good classifier but the data is not always this nice. More commonly, a \"soft margin\" is used which simply has a penalty factor on the points that fall within the margin and minimizes this penalty to determine the best hyperplane. \n",
    "\n",
    "The hyperplane's shape is determined by the \"kernel\" function used. The kernel can be linear, polynomial, or using a Gaussian radial basis function (rbf). Using a kernel will morph the plane from a linear shape to some curve which will often allow for better classification depending on the type of data and the parameters of the curve.\n",
    "\n",
    "For multi-class classification, we use the standard dual-class SVM but take a one vs all or a one vs one approach to detemine the one class that the given test data point fits best. In one vs all, n classifiers are created to compare the class x vs the other classes. The test point is run through each of these classifiers and the one with the highest probability of being in the class rather than being in the impostor group wins. In one vs one, each class is pitted against the others and a winner-takees-all strategy is employed until the best one is found.\n",
    "\n",
    "### SVM for Biometrics\n",
    "\n",
    "SVMs have been proven good for text categorization problems and bioinformatics. They are also known to perform well for large datasets. They are best for linearly separable data, though it's not certain whether the datasets looked at in this project have this quality.\n"
   ]
  },
  {
   "cell_type": "code",
   "execution_count": 151,
   "metadata": {
    "collapsed": true
   },
   "outputs": [],
   "source": [
    "%matplotlib inline\n",
    "import csv\n",
    "import numpy as np\n",
    "from scipy import interp\n",
    "import matplotlib.pyplot as plt\n",
    "from sklearn import svm, datasets\n",
    "from sklearn.cross_validation import train_test_split\n",
    "from sklearn.metrics import roc_curve, auc\n",
    "from sklearn.cross_validation import StratifiedKFold\n",
    "from sklearn import preprocessing"
   ]
  },
  {
   "cell_type": "code",
   "execution_count": 76,
   "metadata": {
    "collapsed": false
   },
   "outputs": [],
   "source": [
    "def score(clf, X_test, y_test):\n",
    "    idx = 0\n",
    "    score = 0\n",
    "    for x in X_test:\n",
    "        y_pred = clf.predict([x])\n",
    "        if y_pred == y_test[idx]:\n",
    "            score += 1\n",
    "        idx+=1\n",
    "    return 100*score/idx"
   ]
  },
  {
   "cell_type": "code",
   "execution_count": 202,
   "metadata": {
    "collapsed": false
   },
   "outputs": [],
   "source": [
    "def score_complex(clf,X_test,Y_test):\n",
    "    \n",
    "    count = 0\n",
    "    tp = 0\n",
    "    fp = 0\n",
    "    tn = 0\n",
    "    fn = 0\n",
    "    \n",
    "    user = Y_test.count(1)\n",
    "    imposter = Y_test.count(0)\n",
    "\n",
    "    for x in X_test:\n",
    "        \n",
    "        y_hat = clf.predict([x])\n",
    "        \n",
    "        if Y_test[count] == 1 and y_hat == 1:\n",
    "            tp += 1\n",
    "        if Y_test[count] == 1 and y_hat == 0:\n",
    "            fn += 1\n",
    "        if Y_test[count] == 0 and y_hat == 1:\n",
    "            fp += 1\n",
    "        if Y_test[count] == 0 and y_hat == 0:\n",
    "            tn += 1\n",
    "        \n",
    "        count += 1\n",
    "    \n",
    "    return (round(tp/user*100,2),round(tn/imposter*100,2),round(fp/imposter*100,2),round(fn/user*100,2))"
   ]
  },
  {
   "cell_type": "markdown",
   "metadata": {},
   "source": [
    "### Dataset 1 - CMU"
   ]
  },
  {
   "cell_type": "markdown",
   "metadata": {},
   "source": [
    "#### Background\n",
    "\n",
    "This is the basic dataset used in many keyboard biometrics studies. It contains 51 users and 20,400 total rows"
   ]
  },
  {
   "cell_type": "markdown",
   "metadata": {},
   "source": [
    "#### Preprocessing the data"
   ]
  },
  {
   "cell_type": "code",
   "execution_count": 174,
   "metadata": {
    "collapsed": true
   },
   "outputs": [],
   "source": [
    "filename = \"../data/keystroke0.csv\""
   ]
  },
  {
   "cell_type": "code",
   "execution_count": 175,
   "metadata": {
    "collapsed": false
   },
   "outputs": [],
   "source": [
    "X = []\n",
    "Y = []\n",
    "\n",
    "with open(filename, 'r') as f:\n",
    "    reader = csv.reader(f)\n",
    "    first = 1\n",
    "    for row in reader:\n",
    "        if first:\n",
    "            first = 0\n",
    "            continue\n",
    "        X.append(row[3:])\n",
    "        Y.append(int(row[0][1:]))"
   ]
  },
  {
   "cell_type": "markdown",
   "metadata": {},
   "source": [
    "#### Multi-class SVM"
   ]
  },
  {
   "cell_type": "code",
   "execution_count": 153,
   "metadata": {
    "collapsed": false
   },
   "outputs": [
    {
     "data": {
      "text/plain": [
       "SVC(C=1, cache_size=200, class_weight=None, coef0=0.0,\n",
       "  decision_function_shape=None, degree=3, gamma='auto', kernel='rbf',\n",
       "  max_iter=-1, probability=False, random_state=None, shrinking=True,\n",
       "  tol=0.001, verbose=False)"
      ]
     },
     "execution_count": 153,
     "metadata": {},
     "output_type": "execute_result"
    }
   ],
   "source": [
    "X_train, X_test, y_train, y_test = train_test_split(X, Y, test_size=0.2, random_state=42)\n",
    "clf = svm.SVC(C = 1)\n",
    "clf.fit(X_train, y_train) "
   ]
  },
  {
   "cell_type": "code",
   "execution_count": 154,
   "metadata": {
    "collapsed": false
   },
   "outputs": [
    {
     "name": "stdout",
     "output_type": "stream",
     "text": [
      "88.13725490196079%\n"
     ]
    }
   ],
   "source": [
    "print(str(score(clf, X_test, y_test)) + '%')"
   ]
  },
  {
   "cell_type": "markdown",
   "metadata": {},
   "source": [
    "Now we normalize the data with mean 0 and variance 1. We get a significantly better fit. We will normalize all datasets in this way from here on. "
   ]
  },
  {
   "cell_type": "code",
   "execution_count": 176,
   "metadata": {
    "collapsed": false
   },
   "outputs": [
    {
     "name": "stdout",
     "output_type": "stream",
     "text": [
      "88.13725490196079%\n"
     ]
    }
   ],
   "source": [
    "X = preprocessing.scale(X)\n",
    "\n",
    "X_train, X_test, y_train, y_test = train_test_split(X, Y, test_size=0.2, random_state=42)\n",
    "clf = svm.SVC(C = 1)\n",
    "clf.fit(X_train, y_train) \n",
    "\n",
    "print(str(score(clf, X_test, y_test)) + '%')"
   ]
  },
  {
   "cell_type": "code",
   "execution_count": 82,
   "metadata": {
    "collapsed": false
   },
   "outputs": [
    {
     "name": "stdout",
     "output_type": "stream",
     "text": [
      "[1, 25, 50, 75, 100]\n",
      "[39.38725490196079, 79.16666666666667, 82.0343137254902, 83.70098039215686, 84.46078431372548]\n"
     ]
    }
   ],
   "source": [
    "# Test different Csprint(str(score(clf, X_test, y_test)) + '%')\n",
    "results = []\n",
    "Cs = [1,25,50,75,100]\n",
    "\n",
    "for i in [1,25,50,75,100]:\n",
    "    results.append(score(svm.SVC(C = i).fit(X_train, y_train), X_test, y_test))\n",
    "    \n",
    "print(Cs)\n",
    "print(results)"
   ]
  },
  {
   "cell_type": "code",
   "execution_count": 83,
   "metadata": {
    "collapsed": false
   },
   "outputs": [
    {
     "name": "stdout",
     "output_type": "stream",
     "text": [
      "linear: 76.12745098039215%\n",
      "rbf: 39.38725490196079%\n",
      "poly: 2.2549019607843137%\n",
      "sigmoid: 1.3235294117647058%\n"
     ]
    }
   ],
   "source": [
    "# Test different kernels\n",
    "\n",
    "for i in ['linear','rbf','poly','sigmoid']:\n",
    "    print(i + ': ' + str(score(svm.SVC(kernel = i).fit(X_train, y_train), X_test, y_test)) + '%')"
   ]
  },
  {
   "cell_type": "markdown",
   "metadata": {},
   "source": [
    "#### Genuine vs Impostor SVM"
   ]
  },
  {
   "cell_type": "code",
   "execution_count": 84,
   "metadata": {
    "collapsed": true
   },
   "outputs": [],
   "source": [
    "genuines = [2, 5, 13, 39]\n",
    "ys = []\n",
    "for g in genuines:\n",
    "    # Genuine = 1, Impostor = 0\n",
    "    newY = []\n",
    "    for elt in Y:\n",
    "        if elt == g:\n",
    "            newY.append(1)\n",
    "        else:\n",
    "            newY.append(0)\n",
    "    ys.append(newY)"
   ]
  },
  {
   "cell_type": "code",
   "execution_count": 85,
   "metadata": {
    "collapsed": false
   },
   "outputs": [
    {
     "name": "stdout",
     "output_type": "stream",
     "text": [
      "400\n",
      "400\n",
      "400\n",
      "400\n"
     ]
    }
   ],
   "source": [
    "# Make sure we have exactly 400 1s in each list\n",
    "for i in range(len(genuines)):\n",
    "    print(sum(ys[i]))"
   ]
  },
  {
   "cell_type": "code",
   "execution_count": 88,
   "metadata": {
    "collapsed": false
   },
   "outputs": [],
   "source": [
    "scores = []\n",
    "for y in ys:\n",
    "    X_train, X_test, y_train, y_test = train_test_split(X, y, test_size=0.2, random_state=42)\n",
    "    clf = svm.SVC(C = 1)\n",
    "    clf.fit(X_train, y_train) \n",
    "    scores.append(str(score(clf, X_test, y_test)) + '%')"
   ]
  },
  {
   "cell_type": "markdown",
   "metadata": {},
   "source": [
    "VERY Weird. or maybe not that weird... they're not exactly the same, just very close, which kinda makes sense given what you were saying the other day. It's going to be almost entirely correct because there are so many 0s relative to 1s. "
   ]
  },
  {
   "cell_type": "code",
   "execution_count": 89,
   "metadata": {
    "collapsed": false
   },
   "outputs": [
    {
     "data": {
      "text/plain": [
       "['98.23529411764706%',\n",
       " '98.21078431372548%',\n",
       " '98.23529411764706%',\n",
       " '98.11274509803921%']"
      ]
     },
     "execution_count": 89,
     "metadata": {},
     "output_type": "execute_result"
    }
   ],
   "source": [
    "scores"
   ]
  },
  {
   "cell_type": "code",
   "execution_count": 203,
   "metadata": {
    "collapsed": false,
    "scrolled": true
   },
   "outputs": [
    {
     "name": "stdout",
     "output_type": "stream",
     "text": [
      "SUBJECT2: \n",
      " True-Positive = 51.39% \n",
      " False-Negative = 48.61% \n",
      " True-Negative = 99.95% \n",
      " False-Positive = 0.05%\n",
      "SUBJECT3: \n",
      " True-Positive = 59.42% \n",
      " False-Negative = 40.58% \n",
      " True-Negative = 99.93% \n",
      " False-Positive = 0.07%\n",
      "SUBJECT4: \n",
      " True-Positive = 67.12% \n",
      " False-Negative = 32.88% \n",
      " True-Negative = 100.0% \n",
      " False-Positive = 0.0%\n",
      "SUBJECT5: \n",
      " True-Positive = 83.56% \n",
      " False-Negative = 16.44% \n",
      " True-Negative = 99.93% \n",
      " False-Positive = 0.07%\n",
      "SUBJECT7: \n",
      " True-Positive = 42.59% \n",
      " False-Negative = 57.41% \n",
      " True-Negative = 99.98% \n",
      " False-Positive = 0.02%\n",
      "SUBJECT8: \n",
      " True-Positive = 49.43% \n",
      " False-Negative = 50.57% \n",
      " True-Negative = 99.97% \n",
      " False-Positive = 0.03%\n",
      "SUBJECT10: \n",
      " True-Positive = 84.54% \n",
      " False-Negative = 15.46% \n",
      " True-Negative = 99.95% \n",
      " False-Positive = 0.05%\n",
      "SUBJECT11: \n",
      " True-Positive = 78.67% \n",
      " False-Negative = 21.33% \n",
      " True-Negative = 99.95% \n",
      " False-Positive = 0.05%\n",
      "SUBJECT12: \n",
      " True-Positive = 75.27% \n",
      " False-Negative = 24.73% \n",
      " True-Negative = 99.97% \n",
      " False-Positive = 0.03%\n",
      "SUBJECT13: \n",
      " True-Positive = 77.78% \n",
      " False-Negative = 22.22% \n",
      " True-Negative = 99.93% \n",
      " False-Positive = 0.07%\n",
      "SUBJECT15: \n",
      " True-Positive = 65.52% \n",
      " False-Negative = 34.48% \n",
      " True-Negative = 99.95% \n",
      " False-Positive = 0.05%\n",
      "SUBJECT16: \n",
      " True-Positive = 88.24% \n",
      " False-Negative = 11.76% \n",
      " True-Negative = 99.97% \n",
      " False-Positive = 0.03%\n",
      "SUBJECT17: \n",
      " True-Positive = 87.8% \n",
      " False-Negative = 12.2% \n",
      " True-Negative = 100.0% \n",
      " False-Positive = 0.0%\n",
      "SUBJECT18: \n",
      " True-Positive = 75.34% \n",
      " False-Negative = 24.66% \n",
      " True-Negative = 99.98% \n",
      " False-Positive = 0.02%\n",
      "SUBJECT19: \n",
      " True-Positive = 88.75% \n",
      " False-Negative = 11.25% \n",
      " True-Negative = 99.98% \n",
      " False-Positive = 0.03%\n",
      "SUBJECT20: \n",
      " True-Positive = 56.98% \n",
      " False-Negative = 43.02% \n",
      " True-Negative = 99.85% \n",
      " False-Positive = 0.15%\n",
      "SUBJECT21: \n",
      " True-Positive = 61.63% \n",
      " False-Negative = 38.37% \n",
      " True-Negative = 99.82% \n",
      " False-Positive = 0.18%\n",
      "SUBJECT22: \n",
      " True-Positive = 94.44% \n",
      " False-Negative = 5.56% \n",
      " True-Negative = 100.0% \n",
      " False-Positive = 0.0%\n",
      "SUBJECT24: \n",
      " True-Positive = 90.41% \n",
      " False-Negative = 9.59% \n",
      " True-Negative = 99.95% \n",
      " False-Positive = 0.05%\n",
      "SUBJECT25: \n",
      " True-Positive = 89.41% \n",
      " False-Negative = 10.59% \n",
      " True-Negative = 99.9% \n",
      " False-Positive = 0.1%\n",
      "SUBJECT26: \n",
      " True-Positive = 54.84% \n",
      " False-Negative = 45.16% \n",
      " True-Negative = 100.0% \n",
      " False-Positive = 0.0%\n",
      "SUBJECT27: \n",
      " True-Positive = 81.93% \n",
      " False-Negative = 18.07% \n",
      " True-Negative = 99.95% \n",
      " False-Positive = 0.05%\n",
      "SUBJECT28: \n",
      " True-Positive = 87.06% \n",
      " False-Negative = 12.94% \n",
      " True-Negative = 99.97% \n",
      " False-Positive = 0.03%\n",
      "SUBJECT29: \n",
      " True-Positive = 73.68% \n",
      " False-Negative = 26.32% \n",
      " True-Negative = 99.98% \n",
      " False-Positive = 0.02%\n",
      "SUBJECT30: \n",
      " True-Positive = 85.06% \n",
      " False-Negative = 14.94% \n",
      " True-Negative = 99.9% \n",
      " False-Positive = 0.1%\n",
      "SUBJECT31: \n",
      " True-Positive = 31.87% \n",
      " False-Negative = 68.13% \n",
      " True-Negative = 99.95% \n",
      " False-Positive = 0.05%\n",
      "SUBJECT32: \n",
      " True-Positive = 14.29% \n",
      " False-Negative = 85.71% \n",
      " True-Negative = 100.0% \n",
      " False-Positive = 0.0%\n",
      "SUBJECT33: \n",
      " True-Positive = 91.3% \n",
      " False-Negative = 8.7% \n",
      " True-Negative = 99.95% \n",
      " False-Positive = 0.05%\n",
      "SUBJECT34: \n",
      " True-Positive = 70.15% \n",
      " False-Negative = 29.85% \n",
      " True-Negative = 99.98% \n",
      " False-Positive = 0.02%\n",
      "SUBJECT35: \n",
      " True-Positive = 83.95% \n",
      " False-Negative = 16.05% \n",
      " True-Negative = 99.92% \n",
      " False-Positive = 0.08%\n",
      "SUBJECT36: \n",
      " True-Positive = 91.25% \n",
      " False-Negative = 8.75% \n",
      " True-Negative = 99.98% \n",
      " False-Positive = 0.03%\n",
      "SUBJECT37: \n",
      " True-Positive = 48.72% \n",
      " False-Negative = 51.28% \n",
      " True-Negative = 99.95% \n",
      " False-Positive = 0.05%\n",
      "SUBJECT38: \n",
      " True-Positive = 82.72% \n",
      " False-Negative = 17.28% \n",
      " True-Negative = 99.92% \n",
      " False-Positive = 0.08%\n",
      "SUBJECT39: \n",
      " True-Positive = 81.82% \n",
      " False-Negative = 18.18% \n",
      " True-Negative = 99.95% \n",
      " False-Positive = 0.05%\n",
      "SUBJECT40: \n",
      " True-Positive = 80.0% \n",
      " False-Negative = 20.0% \n",
      " True-Negative = 99.97% \n",
      " False-Positive = 0.03%\n",
      "SUBJECT41: \n",
      " True-Positive = 78.12% \n",
      " False-Negative = 21.88% \n",
      " True-Negative = 99.8% \n",
      " False-Positive = 0.2%\n",
      "SUBJECT42: \n",
      " True-Positive = 93.67% \n",
      " False-Negative = 6.33% \n",
      " True-Negative = 100.0% \n",
      " False-Positive = 0.0%\n",
      "SUBJECT43: \n",
      " True-Positive = 97.4% \n",
      " False-Negative = 2.6% \n",
      " True-Negative = 100.0% \n",
      " False-Positive = 0.0%\n",
      "SUBJECT44: \n",
      " True-Positive = 91.36% \n",
      " False-Negative = 8.64% \n",
      " True-Negative = 100.0% \n",
      " False-Positive = 0.0%\n",
      "SUBJECT46: \n",
      " True-Positive = 64.04% \n",
      " False-Negative = 35.96% \n",
      " True-Negative = 99.95% \n",
      " False-Positive = 0.05%\n",
      "SUBJECT47: \n",
      " True-Positive = 69.01% \n",
      " False-Negative = 30.99% \n",
      " True-Negative = 99.83% \n",
      " False-Positive = 0.17%\n",
      "SUBJECT48: \n",
      " True-Positive = 67.12% \n",
      " False-Negative = 32.88% \n",
      " True-Negative = 100.0% \n",
      " False-Positive = 0.0%\n",
      "SUBJECT49: \n",
      " True-Positive = 81.48% \n",
      " False-Negative = 18.52% \n",
      " True-Negative = 99.95% \n",
      " False-Positive = 0.05%\n",
      "SUBJECT50: \n",
      " True-Positive = 61.8% \n",
      " False-Negative = 38.2% \n",
      " True-Negative = 99.85% \n",
      " False-Positive = 0.15%\n",
      "SUBJECT51: \n",
      " True-Positive = 70.67% \n",
      " False-Negative = 29.33% \n",
      " True-Negative = 99.95% \n",
      " False-Positive = 0.05%\n",
      "SUBJECT52: \n",
      " True-Positive = 93.18% \n",
      " False-Negative = 6.82% \n",
      " True-Negative = 100.0% \n",
      " False-Positive = 0.0%\n",
      "SUBJECT53: \n",
      " True-Positive = 93.06% \n",
      " False-Negative = 6.94% \n",
      " True-Negative = 99.98% \n",
      " False-Positive = 0.02%\n",
      "SUBJECT54: \n",
      " True-Positive = 60.24% \n",
      " False-Negative = 39.76% \n",
      " True-Negative = 99.9% \n",
      " False-Positive = 0.1%\n",
      "SUBJECT55: \n",
      " True-Positive = 93.85% \n",
      " False-Negative = 6.15% \n",
      " True-Negative = 100.0% \n",
      " False-Positive = 0.0%\n",
      "SUBJECT56: \n",
      " True-Positive = 66.67% \n",
      " False-Negative = 33.33% \n",
      " True-Negative = 100.0% \n",
      " False-Positive = 0.0%\n",
      "SUBJECT57: \n",
      " True-Positive = 63.44% \n",
      " False-Negative = 36.56% \n",
      " True-Negative = 99.92% \n",
      " False-Positive = 0.08%\n"
     ]
    }
   ],
   "source": [
    "true_positives = []\n",
    "false_negatives = []\n",
    "true_negatives = []\n",
    "false_negatives = []\n",
    "\n",
    "for i in [x for x in range(2,58) if x in Y]:\n",
    "\n",
    "    user = [1 if x == i else 0 for x in Y]\n",
    "    \n",
    "    X_train, X_test, Y_train, Y_test = train_test_split(X, user, test_size=0.2, random_state=42)\n",
    "    \n",
    "    clf = svm.SVC()\n",
    "    clf.fit(X_train,Y_train)\n",
    "        \n",
    "    scores = score_complex(clf,X_test,Y_test)\n",
    "    \n",
    "    true_positives.append(scores[0])\n",
    "    false_negatives.append(scores[3])\n",
    "    true_negatives.append(scores[1])\n",
    "    false_negatives.append(scores[2])\n",
    "\n",
    "    print('SUBJECT' + str(i) + ': \\n True-Positive = ' + str(scores[0]) + '% \\n False-Negative = ' + str(scores[3]) + '% \\n True-Negative = ' + str(scores[1]) + '% \\n False-Positive = ' + str(scores[2]) + '%')"
   ]
  },
  {
   "cell_type": "markdown",
   "metadata": {},
   "source": [
    "#### ROC Curve"
   ]
  },
  {
   "cell_type": "markdown",
   "metadata": {},
   "source": [
    "Below is the basic code for creating some ROC curves. In this test I just made 6 different \"folds\", or cross-validation splits and compared them against each other. Ideally we would be comparing different C values, kernels, and datasets using this"
   ]
  },
  {
   "cell_type": "code",
   "execution_count": 161,
   "metadata": {
    "collapsed": false
   },
   "outputs": [
    {
     "data": {
      "image/png": "[encoded data removed]",
      "text/plain": [
       "<matplotlib.figure.Figure at 0x10a9ace48>"
      ]
     },
     "metadata": {},
     "output_type": "display_data"
    }
   ],
   "source": [
    "# Gonna just use the first y since it doesn't seem to matter\n",
    "yyy = np.array(ys[0])\n",
    "XXX = np.array(X)\n",
    "\n",
    "# More intense cross-validation\n",
    "cv = StratifiedKFold(yyy, n_folds=6)\n",
    "classifier = svm.SVC(kernel='linear', probability=True)\n",
    "\n",
    "mean_tpr = 0.0\n",
    "mean_fpr = np.linspace(0, 1, 100)\n",
    "all_tpr = []\n",
    "\n",
    "for i, (train, test) in enumerate(cv):\n",
    "    probas_ = classifier.fit(XXX[train], yyy[train]).predict_proba(XXX[test])\n",
    "    # Compute ROC curve and area the curve\n",
    "    fpr, tpr, thresholds = roc_curve(yyy[test], probas_[:, 1])\n",
    "    mean_tpr += interp(mean_fpr, fpr, tpr)\n",
    "    mean_tpr[0] = 0.0\n",
    "    roc_auc = auc(fpr, tpr)\n",
    "    plt.plot(fpr, tpr, lw=1, label='ROC fold %d (area = %0.2f)' % (i, roc_auc))\n",
    "\n",
    "plt.plot([0, 1], [0, 1], '--', color=(0.6, 0.6, 0.6), label='Luck')\n",
    "\n",
    "mean_tpr /= len(cv)\n",
    "mean_tpr[-1] = 1.0\n",
    "mean_auc = auc(mean_fpr, mean_tpr)\n",
    "plt.plot(mean_fpr, mean_tpr, 'k--',\n",
    "         label='Mean ROC (area = %0.2f)' % mean_auc, lw=2)\n",
    "\n",
    "plt.xlim([-0.05, 1.05])\n",
    "plt.ylim([-0.05, 1.05])\n",
    "plt.xlabel('False Positive Rate')\n",
    "plt.ylabel('True Positive Rate')\n",
    "plt.title('Receiver operating characteristic example')\n",
    "plt.legend(loc=\"lower right\")\n",
    "plt.show()"
   ]
  },
  {
   "cell_type": "markdown",
   "metadata": {},
   "source": [
    "### Dataset 2 - GREYC Standard"
   ]
  },
  {
   "cell_type": "markdown",
   "metadata": {},
   "source": [
    "#### Background\n",
    "\n",
    "This is the standard GREYC dataset. It contains 133 users and 7,555 total rows"
   ]
  },
  {
   "cell_type": "markdown",
   "metadata": {},
   "source": [
    "#### Preprocessing the data"
   ]
  },
  {
   "cell_type": "code",
   "execution_count": 169,
   "metadata": {
    "collapsed": true
   },
   "outputs": [],
   "source": [
    "filename = \"../data/keystroke1.csv\""
   ]
  },
  {
   "cell_type": "code",
   "execution_count": 171,
   "metadata": {
    "collapsed": false
   },
   "outputs": [],
   "source": [
    "X = []\n",
    "y = []\n",
    "\n",
    "with open(filename, 'r') as f:\n",
    "    reader = csv.reader(f)\n",
    "    first = 1\n",
    "    for row in reader:\n",
    "        if first:\n",
    "            first = 0\n",
    "            continue\n",
    "        rw = list(map(lambda x: x/10000000., (map(int, row[5].split(' ')[1:61]))))\n",
    "        if len(rw) < 60:\n",
    "            continue\n",
    "        X.append(rw)\n",
    "        y.append(int(row[0]))\n",
    "\n",
    "X = preprocessing.scale(X)"
   ]
  },
  {
   "cell_type": "markdown",
   "metadata": {},
   "source": [
    "#### Multi-class SVM"
   ]
  },
  {
   "cell_type": "code",
   "execution_count": 172,
   "metadata": {
    "collapsed": false
   },
   "outputs": [
    {
     "data": {
      "text/plain": [
       "SVC(C=1, cache_size=200, class_weight=None, coef0=0.0,\n",
       "  decision_function_shape=None, degree=3, gamma='auto', kernel='rbf',\n",
       "  max_iter=-1, probability=False, random_state=None, shrinking=True,\n",
       "  tol=0.001, verbose=False)"
      ]
     },
     "execution_count": 172,
     "metadata": {},
     "output_type": "execute_result"
    }
   ],
   "source": [
    "X_train, X_test, y_train, y_test = train_test_split(X, y, test_size=0.2, random_state=42)\n",
    "clf = svm.SVC(C = 1)\n",
    "clf.fit(X_train, y_train) "
   ]
  },
  {
   "cell_type": "markdown",
   "metadata": {},
   "source": [
    "#####This actually takes a stupid long time to run.."
   ]
  },
  {
   "cell_type": "code",
   "execution_count": 173,
   "metadata": {
    "collapsed": false
   },
   "outputs": [
    {
     "ename": "KeyboardInterrupt",
     "evalue": "",
     "output_type": "error",
     "traceback": [
      "\u001b[0;31m---------------------------------------------------------------------------\u001b[0m",
      "\u001b[0;31mKeyboardInterrupt\u001b[0m                         Traceback (most recent call last)",
      "\u001b[0;32m<ipython-input-173-dff672f23ac2>\u001b[0m in \u001b[0;36m<module>\u001b[0;34m()\u001b[0m\n\u001b[0;32m----> 1\u001b[0;31m \u001b[0mprint\u001b[0m\u001b[0;34m(\u001b[0m\u001b[0mstr\u001b[0m\u001b[0;34m(\u001b[0m\u001b[0mscore\u001b[0m\u001b[0;34m(\u001b[0m\u001b[0mclf\u001b[0m\u001b[0;34m,\u001b[0m \u001b[0mX_test\u001b[0m\u001b[0;34m,\u001b[0m \u001b[0my_test\u001b[0m\u001b[0;34m)\u001b[0m\u001b[0;34m)\u001b[0m \u001b[0;34m+\u001b[0m \u001b[0;34m'%'\u001b[0m\u001b[0;34m)\u001b[0m\u001b[0;34m\u001b[0m\u001b[0m\n\u001b[0m",
      "\u001b[0;32m<ipython-input-76-26c46b32af90>\u001b[0m in \u001b[0;36mscore\u001b[0;34m(clf, X_test, y_test)\u001b[0m\n\u001b[1;32m      3\u001b[0m     \u001b[0mscore\u001b[0m \u001b[0;34m=\u001b[0m \u001b[0;36m0\u001b[0m\u001b[0;34m\u001b[0m\u001b[0m\n\u001b[1;32m      4\u001b[0m     \u001b[0;32mfor\u001b[0m \u001b[0mx\u001b[0m \u001b[0;32min\u001b[0m \u001b[0mX_test\u001b[0m\u001b[0;34m:\u001b[0m\u001b[0;34m\u001b[0m\u001b[0m\n\u001b[0;32m----> 5\u001b[0;31m         \u001b[0my_pred\u001b[0m \u001b[0;34m=\u001b[0m \u001b[0mclf\u001b[0m\u001b[0;34m.\u001b[0m\u001b[0mpredict\u001b[0m\u001b[0;34m(\u001b[0m\u001b[0;34m[\u001b[0m\u001b[0mx\u001b[0m\u001b[0;34m]\u001b[0m\u001b[0;34m)\u001b[0m\u001b[0;34m\u001b[0m\u001b[0m\n\u001b[0m\u001b[1;32m      6\u001b[0m         \u001b[0;32mif\u001b[0m \u001b[0my_pred\u001b[0m \u001b[0;34m==\u001b[0m \u001b[0my_test\u001b[0m\u001b[0;34m[\u001b[0m\u001b[0midx\u001b[0m\u001b[0;34m]\u001b[0m\u001b[0;34m:\u001b[0m\u001b[0;34m\u001b[0m\u001b[0m\n\u001b[1;32m      7\u001b[0m             \u001b[0mscore\u001b[0m \u001b[0;34m+=\u001b[0m \u001b[0;36m1\u001b[0m\u001b[0;34m\u001b[0m\u001b[0m\n",
      "\u001b[0;32m/Users/justin/anaconda/lib/python3.5/site-packages/sklearn/svm/base.py\u001b[0m in \u001b[0;36mpredict\u001b[0;34m(self, X)\u001b[0m\n\u001b[1;32m    566\u001b[0m             \u001b[0mClass\u001b[0m \u001b[0mlabels\u001b[0m \u001b[0;32mfor\u001b[0m \u001b[0msamples\u001b[0m \u001b[0;32min\u001b[0m \u001b[0mX\u001b[0m\u001b[0;34m.\u001b[0m\u001b[0;34m\u001b[0m\u001b[0m\n\u001b[1;32m    567\u001b[0m         \"\"\"\n\u001b[0;32m--> 568\u001b[0;31m         \u001b[0my\u001b[0m \u001b[0;34m=\u001b[0m \u001b[0msuper\u001b[0m\u001b[0;34m(\u001b[0m\u001b[0mBaseSVC\u001b[0m\u001b[0;34m,\u001b[0m \u001b[0mself\u001b[0m\u001b[0;34m)\u001b[0m\u001b[0;34m.\u001b[0m\u001b[0mpredict\u001b[0m\u001b[0;34m(\u001b[0m\u001b[0mX\u001b[0m\u001b[0;34m)\u001b[0m\u001b[0;34m\u001b[0m\u001b[0m\n\u001b[0m\u001b[1;32m    569\u001b[0m         \u001b[0;32mreturn\u001b[0m \u001b[0mself\u001b[0m\u001b[0;34m.\u001b[0m\u001b[0mclasses_\u001b[0m\u001b[0;34m.\u001b[0m\u001b[0mtake\u001b[0m\u001b[0;34m(\u001b[0m\u001b[0mnp\u001b[0m\u001b[0;34m.\u001b[0m\u001b[0masarray\u001b[0m\u001b[0;34m(\u001b[0m\u001b[0my\u001b[0m\u001b[0;34m,\u001b[0m \u001b[0mdtype\u001b[0m\u001b[0;34m=\u001b[0m\u001b[0mnp\u001b[0m\u001b[0;34m.\u001b[0m\u001b[0mintp\u001b[0m\u001b[0;34m)\u001b[0m\u001b[0;34m)\u001b[0m\u001b[0;34m\u001b[0m\u001b[0m\n\u001b[1;32m    570\u001b[0m \u001b[0;34m\u001b[0m\u001b[0m\n",
      "\u001b[0;32m/Users/justin/anaconda/lib/python3.5/site-packages/sklearn/svm/base.py\u001b[0m in \u001b[0;36mpredict\u001b[0;34m(self, X)\u001b[0m\n\u001b[1;32m    305\u001b[0m         \u001b[0mX\u001b[0m \u001b[0;34m=\u001b[0m \u001b[0mself\u001b[0m\u001b[0;34m.\u001b[0m\u001b[0m_validate_for_predict\u001b[0m\u001b[0;34m(\u001b[0m\u001b[0mX\u001b[0m\u001b[0;34m)\u001b[0m\u001b[0;34m\u001b[0m\u001b[0m\n\u001b[1;32m    306\u001b[0m         \u001b[0mpredict\u001b[0m \u001b[0;34m=\u001b[0m \u001b[0mself\u001b[0m\u001b[0;34m.\u001b[0m\u001b[0m_sparse_predict\u001b[0m \u001b[0;32mif\u001b[0m \u001b[0mself\u001b[0m\u001b[0;34m.\u001b[0m\u001b[0m_sparse\u001b[0m \u001b[0;32melse\u001b[0m \u001b[0mself\u001b[0m\u001b[0;34m.\u001b[0m\u001b[0m_dense_predict\u001b[0m\u001b[0;34m\u001b[0m\u001b[0m\n\u001b[0;32m--> 307\u001b[0;31m         \u001b[0;32mreturn\u001b[0m \u001b[0mpredict\u001b[0m\u001b[0;34m(\u001b[0m\u001b[0mX\u001b[0m\u001b[0;34m)\u001b[0m\u001b[0;34m\u001b[0m\u001b[0m\n\u001b[0m\u001b[1;32m    308\u001b[0m \u001b[0;34m\u001b[0m\u001b[0m\n\u001b[1;32m    309\u001b[0m     \u001b[0;32mdef\u001b[0m \u001b[0m_dense_predict\u001b[0m\u001b[0;34m(\u001b[0m\u001b[0mself\u001b[0m\u001b[0;34m,\u001b[0m \u001b[0mX\u001b[0m\u001b[0;34m)\u001b[0m\u001b[0;34m:\u001b[0m\u001b[0;34m\u001b[0m\u001b[0m\n",
      "\u001b[0;32m/Users/justin/anaconda/lib/python3.5/site-packages/sklearn/svm/base.py\u001b[0m in \u001b[0;36m_dense_predict\u001b[0;34m(self, X)\u001b[0m\n\u001b[1;32m    328\u001b[0m             \u001b[0mself\u001b[0m\u001b[0;34m.\u001b[0m\u001b[0mprobA_\u001b[0m\u001b[0;34m,\u001b[0m \u001b[0mself\u001b[0m\u001b[0;34m.\u001b[0m\u001b[0mprobB_\u001b[0m\u001b[0;34m,\u001b[0m \u001b[0msvm_type\u001b[0m\u001b[0;34m=\u001b[0m\u001b[0msvm_type\u001b[0m\u001b[0;34m,\u001b[0m \u001b[0mkernel\u001b[0m\u001b[0;34m=\u001b[0m\u001b[0mkernel\u001b[0m\u001b[0;34m,\u001b[0m\u001b[0;34m\u001b[0m\u001b[0m\n\u001b[1;32m    329\u001b[0m             \u001b[0mdegree\u001b[0m\u001b[0;34m=\u001b[0m\u001b[0mself\u001b[0m\u001b[0;34m.\u001b[0m\u001b[0mdegree\u001b[0m\u001b[0;34m,\u001b[0m \u001b[0mcoef0\u001b[0m\u001b[0;34m=\u001b[0m\u001b[0mself\u001b[0m\u001b[0;34m.\u001b[0m\u001b[0mcoef0\u001b[0m\u001b[0;34m,\u001b[0m \u001b[0mgamma\u001b[0m\u001b[0;34m=\u001b[0m\u001b[0mself\u001b[0m\u001b[0;34m.\u001b[0m\u001b[0m_gamma\u001b[0m\u001b[0;34m,\u001b[0m\u001b[0;34m\u001b[0m\u001b[0m\n\u001b[0;32m--> 330\u001b[0;31m             cache_size=self.cache_size)\n\u001b[0m\u001b[1;32m    331\u001b[0m \u001b[0;34m\u001b[0m\u001b[0m\n\u001b[1;32m    332\u001b[0m     \u001b[0;32mdef\u001b[0m \u001b[0m_sparse_predict\u001b[0m\u001b[0;34m(\u001b[0m\u001b[0mself\u001b[0m\u001b[0;34m,\u001b[0m \u001b[0mX\u001b[0m\u001b[0;34m)\u001b[0m\u001b[0;34m:\u001b[0m\u001b[0;34m\u001b[0m\u001b[0m\n",
      "\u001b[0;31mKeyboardInterrupt\u001b[0m: "
     ]
    }
   ],
   "source": [
    "print(str(score(clf, X_test, y_test)) + '%')"
   ]
  },
  {
   "cell_type": "markdown",
   "metadata": {},
   "source": [
    "##### Well this is a bit awkward.. The data is very strange - I divided everything by 10,000,000 because the numbers were huge (I suspect they were in milliseconds), but still unclear why this took so long and yielded 0.."
   ]
  },
  {
   "cell_type": "markdown",
   "metadata": {},
   "source": [
    "### Dataset 4 - GREYC Demographics"
   ]
  },
  {
   "cell_type": "markdown",
   "metadata": {},
   "source": [
    "#### Background\n",
    "\n",
    "This is the GREYC dataset where users are also classfified by demographics. It contains 110 users and each has a binary class assigned to them based on age (younger or older than 30), gender, and handedness.\n",
    "\n",
    "The data is actually split into 2 files - 'keystroke3-1.csv' and 'keystroke3-2.csv'\n",
    "\n",
    "Each of these has the typing of a different password"
   ]
  },
  {
   "cell_type": "markdown",
   "metadata": {},
   "source": [
    "#### Preprocessing the data"
   ]
  },
  {
   "cell_type": "code",
   "execution_count": 163,
   "metadata": {
    "collapsed": true
   },
   "outputs": [],
   "source": [
    "filename = \"../data/keystroke3-1.csv\""
   ]
  },
  {
   "cell_type": "code",
   "execution_count": 165,
   "metadata": {
    "collapsed": false
   },
   "outputs": [],
   "source": [
    "X = []\n",
    "y = []\n",
    "\n",
    "with open(filename, 'r') as f:\n",
    "    reader = csv.reader(f)\n",
    "    first = 1\n",
    "    for row in reader:\n",
    "        if first:\n",
    "            first = 0\n",
    "            continue\n",
    "        rw = list(map(lambda x: x/10000000., (map(int, row[6].split(' ')[1:61]))))\n",
    "        if len(rw) < 5:\n",
    "            print(rw)\n",
    "        X.append(rw)\n",
    "        y.append(int(row[0]))\n",
    "\n",
    "# normalize with mean 0 and variance 1\n",
    "X = preprocessing.scale(X)"
   ]
  },
  {
   "cell_type": "code",
   "execution_count": 168,
   "metadata": {
    "collapsed": false
   },
   "outputs": [
    {
     "name": "stdout",
     "output_type": "stream",
     "text": [
      "17.5%\n"
     ]
    }
   ],
   "source": [
    "X_train, X_test, y_train, y_test = train_test_split(X, y, test_size=0.2, random_state=42)\n",
    "clf = svm.SVC(C = 1)\n",
    "clf.fit(X_train, y_train) \n",
    "\n",
    "print(str(score(clf, X_test, y_test)) + '%')"
   ]
  },
  {
   "cell_type": "markdown",
   "metadata": {},
   "source": [
    "##### This one goes a lot faster but still.. 3%, what? -- better after normalizing but still really low"
   ]
  },
  {
   "cell_type": "markdown",
   "metadata": {},
   "source": [
    "### Dataset 3 - GREYC Multi-password"
   ]
  },
  {
   "cell_type": "markdown",
   "metadata": {},
   "source": [
    "#### Background\n",
    "\n",
    "This is the GREYC dataset where users typed multiple passwords. It contains 118 users, each with a unique password. This dataset is complex in its organization and should only be used as a stretch goal - for each password it has the user info for that password and also impostor info for trying to get at the password. Everything here lives in keystroke3.tar.gz\n",
    "\n",
    "The dataset is [here](http://www.epaymentbiometrics.ensicaen.fr/greyc-web-based-keystroke-dynamics-dataset) and the associated paper that uses this dataset can he found [here](http://arxiv.org/pdf/1207.0784.pdf) \n",
    "\n",
    "It's not worth looking into this until we've done good work on the other datasets"
   ]
  },
  {
   "cell_type": "code",
   "execution_count": null,
   "metadata": {
    "collapsed": true
   },
   "outputs": [],
   "source": []
  },
  {
   "cell_type": "markdown",
   "metadata": {},
   "source": [
    "#IGNORE BELOW THIS POINT, ALL SCRATCHWORK"
   ]
  },
  {
   "cell_type": "code",
   "execution_count": null,
   "metadata": {
    "collapsed": true
   },
   "outputs": [],
   "source": [
    "import csv\n",
    "import numpy as np\n",
    "import sqlite3\n",
    "from sklearn import svm\n",
    "from sklearn.cross_validation import train_test_split"
   ]
  },
  {
   "cell_type": "code",
   "execution_count": null,
   "metadata": {
    "collapsed": false
   },
   "outputs": [],
   "source": [
    "filename = \"../data/DSL-StrongPasswordData.csv\""
   ]
  },
  {
   "cell_type": "code",
   "execution_count": null,
   "metadata": {
    "collapsed": false
   },
   "outputs": [],
   "source": [
    "specs = []\n",
    "users = []\n",
    "\n",
    "with open(filename, 'rb') as f:\n",
    "    reader = csv.reader(f)\n",
    "    first = 1\n",
    "    for row in reader:\n",
    "        if first:\n",
    "            first = 0\n",
    "            continue\n",
    "        specs.append(row[3:])\n",
    "        users.append(int(row[0][1:]))"
   ]
  },
  {
   "cell_type": "code",
   "execution_count": null,
   "metadata": {
    "collapsed": false
   },
   "outputs": [],
   "source": [
    "users"
   ]
  },
  {
   "cell_type": "code",
   "execution_count": null,
   "metadata": {
    "collapsed": false
   },
   "outputs": [],
   "source": [
    "specs"
   ]
  },
  {
   "cell_type": "code",
   "execution_count": null,
   "metadata": {
    "collapsed": true
   },
   "outputs": [],
   "source": [
    "X_train, X_test, y_train, y_test = train_test_split(specs, users, test_size=0.2, random_state=42)"
   ]
  },
  {
   "cell_type": "code",
   "execution_count": null,
   "metadata": {
    "collapsed": false
   },
   "outputs": [],
   "source": [
    "y_train"
   ]
  },
  {
   "cell_type": "code",
   "execution_count": null,
   "metadata": {
    "collapsed": false
   },
   "outputs": [],
   "source": [
    "X_train, X_test, y_train, y_test = train_test_split(specs, users, test_size=0.2, random_state=42)\n",
    "clf = svm.SVC()\n",
    "clf.fit(X_train, y_train) "
   ]
  },
  {
   "cell_type": "code",
   "execution_count": null,
   "metadata": {
    "collapsed": false
   },
   "outputs": [],
   "source": [
    "idx = 0\n",
    "score = 0\n",
    "for x in X_test:\n",
    "    y_pred = clf.predict([x])\n",
    "    if y_pred == y_test[idx]:\n",
    "        score += 1\n",
    "    idx+=1\n",
    "print str(100*score/idx) + \"%\""
   ]
  },
  {
   "cell_type": "code",
   "execution_count": null,
   "metadata": {
    "collapsed": false
   },
   "outputs": [],
   "source": [
    "print score, idx"
   ]
  },
  {
   "cell_type": "code",
   "execution_count": null,
   "metadata": {
    "collapsed": false
   },
   "outputs": [],
   "source": [
    "np_specs = np.array(X_train).astype(np.float).ravel()\n",
    "np_users = np.array(y_train)\n",
    "print np_specs\n",
    "print np_users\n",
    "h = 0.02\n",
    "x_min, x_max = np_specs.min() - 15, np_specs.max() + 16\n",
    "y_min, y_max = np_users.min() - 15, np_users.max() + 16\n",
    "xx, yy = np.meshgrid(np.arange(x_min, x_max, h),\n",
    "                     np.arange(y_min, y_max, h))\n",
    "\n",
    "Z = clf.predict(np.c_[xx.ravel(), yy.ravel()])\n",
    "\n",
    "# Put the result into a color plot\n",
    "Z = Z.reshape(xx.shape)\n",
    "plt.contourf(xx, yy, Z, cmap=plt.cm.Paired, alpha=0.8)\n",
    "\n",
    "# Plot also the training points\n",
    "plt.scatter(X[:, 0], X[:, 1], c=y, cmap=plt.cm.Paired)\n",
    "plt.xlabel('Sepal length')\n",
    "plt.ylabel('Sepal width')\n",
    "plt.xlim(xx.min(), xx.max())\n",
    "plt.ylim(yy.min(), yy.max())"
   ]
  },
  {
   "cell_type": "code",
   "execution_count": null,
   "metadata": {
    "collapsed": false
   },
   "outputs": [],
   "source": [
    "specs[:3]"
   ]
  },
  {
   "cell_type": "code",
   "execution_count": null,
   "metadata": {
    "collapsed": false
   },
   "outputs": [],
   "source": [
    "X_train, X_test, y_train, y_test = train_test_split(specs, users, test_size=0.2, random_state=42)\n",
    "clf = svm.SVC()\n",
    "clf.fit(X_train, y_train) "
   ]
  }
 ],
 "metadata": {
  "kernelspec": {
   "display_name": "Python 3",
   "language": "python",
   "name": "python3"
  },
  "language_info": {
   "codemirror_mode": {
    "name": "ipython",
    "version": 3
   },
   "file_extension": ".py",
   "mimetype": "text/x-python",
   "name": "python",
   "nbconvert_exporter": "python",
   "pygments_lexer": "ipython3",
   "version": "3.5.1"
  }
 },
 "nbformat": 4,
 "nbformat_minor": 0
}
