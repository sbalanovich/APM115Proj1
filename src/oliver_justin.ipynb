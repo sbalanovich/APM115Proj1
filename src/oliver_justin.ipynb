{
 "cells": [
  {
   "cell_type": "code",
   "execution_count": 217,
   "metadata": {
    "collapsed": false
   },
   "outputs": [
    {
     "data": {
      "text/plain": [
       "47    400\n",
       "35    400\n",
       "22    400\n",
       "53    400\n",
       "37    400\n",
       "21    400\n",
       "5     400\n",
       "52    400\n",
       "36    400\n",
       "20    400\n",
       "4     400\n",
       "51    400\n",
       "19    400\n",
       "54    400\n",
       "3     400\n",
       "50    400\n",
       "34    400\n",
       "18    400\n",
       "2     400\n",
       "49    400\n",
       "33    400\n",
       "17    400\n",
       "48    400\n",
       "32    400\n",
       "38    400\n",
       "7     400\n",
       "31    400\n",
       "11    400\n",
       "15    400\n",
       "46    400\n",
       "30    400\n",
       "29    400\n",
       "13    400\n",
       "44    400\n",
       "28    400\n",
       "12    400\n",
       "43    400\n",
       "27    400\n",
       "42    400\n",
       "39    400\n",
       "26    400\n",
       "10    400\n",
       "57    400\n",
       "41    400\n",
       "25    400\n",
       "56    400\n",
       "40    400\n",
       "24    400\n",
       "8     400\n",
       "55    400\n",
       "16    400\n",
       "Name: subject, dtype: int64"
      ]
     },
     "execution_count": 217,
     "metadata": {},
     "output_type": "execute_result"
    }
   ],
   "source": [
    "from sklearn import svm\n",
    "from sklearn import cross_validation\n",
    "from sklearn import preprocessing\n",
    "import pandas as pd\n",
    "import numpy as np\n",
    "\n",
    "df = pd.read_csv('../data/DSL-StrongPasswordData.csv', sep = ',')\n",
    "\n",
    "df = df.drop(['sessionIndex','rep'],1)\n",
    "\n",
    "Y = df['subject'].apply(lambda x: int(x[-2:]))\n",
    "\n",
    "X = df.drop('subject',1)\n",
    "X = pd.DataFrame(preprocessing.scale(X))\n",
    "\n",
    "X_train, X_test, Y_train, Y_test = cross_validation.train_test_split(X, Y, test_size=0.2, random_state=42)\n",
    "\n",
    "Y.value_counts()"
   ]
  },
  {
   "cell_type": "code",
   "execution_count": 127,
   "metadata": {
    "collapsed": false
   },
   "outputs": [],
   "source": [
    "def score(clf,X_test,Y_test):\n",
    "    \n",
    "    count = 0\n",
    "    score = 0\n",
    "\n",
    "    for i in X_test.index.values:\n",
    "        y_hat = clf.predict(X_test.ix[i].reshape(1,-1))\n",
    "        if y_hat == Y_test[i]:\n",
    "            score += 1\n",
    "        count += 1\n",
    "    \n",
    "    return round(score/count*100,2)"
   ]
  },
  {
   "cell_type": "code",
   "execution_count": 116,
   "metadata": {
    "collapsed": false
   },
   "outputs": [
    {
     "name": "stdout",
     "output_type": "stream",
     "text": [
      "This initial SVM classifier is 88.14% accurate\n"
     ]
    }
   ],
   "source": [
    "clf = svm.SVC()\n",
    "clf.fit(X_train,Y_train)\n",
    "\n",
    "print('This initial SVM classifier is ' + str(score(clf,X_test,Y_test)) + '% accurate')"
   ]
  },
  {
   "cell_type": "code",
   "execution_count": 117,
   "metadata": {
    "collapsed": false
   },
   "outputs": [
    {
     "name": "stdout",
     "output_type": "stream",
     "text": [
      "1\n",
      "25\n",
      "50\n",
      "75\n",
      "100\n"
     ]
    },
    {
     "data": {
      "text/plain": [
       "[88.14, 90.12, 90.0, 89.9, 89.95]"
      ]
     },
     "execution_count": 117,
     "metadata": {},
     "output_type": "execute_result"
    }
   ],
   "source": [
    "results = []\n",
    "\n",
    "for i in [1,25,50,75,100]:\n",
    "    print(i)\n",
    "    results.append(score(svm.SVC(C = i).fit(X_train,Y_train),X_test,Y_test))\n",
    "    \n",
    "results"
   ]
  },
  {
   "cell_type": "code",
   "execution_count": 128,
   "metadata": {
    "collapsed": false
   },
   "outputs": [
    {
     "name": "stdout",
     "output_type": "stream",
     "text": [
      "linear: 84.85\n",
      "rbf: 88.14\n",
      "poly: 73.73\n",
      "sigmoid: 1.32\n"
     ]
    }
   ],
   "source": [
    "# test different kernels\n",
    "\n",
    "for i in ['linear','rbf','poly','sigmoid']:\n",
    "    print(i + ': ' + str(score(svm.SVC(kernel = i).fit(X_train,Y_train),X_test,Y_test)) + '%')"
   ]
  },
  {
   "cell_type": "code",
   "execution_count": 201,
   "metadata": {
    "collapsed": false
   },
   "outputs": [],
   "source": [
    "def score_complex(clf,X_test,Y_test):\n",
    "    \n",
    "    count = 0\n",
    "    tp = 0\n",
    "    fp = 0\n",
    "    tn = 0\n",
    "    fn = 0\n",
    "    \n",
    "    user = Y_test.value_counts()[1]\n",
    "    imposter = Y_test.value_counts()[0]\n",
    "\n",
    "    for i in X_test.index.values:\n",
    "        \n",
    "        y_hat = clf.predict(X_test.ix[i].reshape(1,-1))\n",
    "        \n",
    "        if Y_test[i] == 1 and y_hat == 1:\n",
    "            tp += 1\n",
    "        if Y_test[i] == 1 and y_hat == 0:\n",
    "            fn += 1\n",
    "        if Y_test[i] == 0 and y_hat == 1:\n",
    "            fp += 1\n",
    "        if Y_test[i] == 0 and y_hat == 0:\n",
    "            tn += 1\n",
    "        \n",
    "        count += 1\n",
    "    \n",
    "    return (round(tp/user*100,2),round(tn/imposter*100,2),round(fp/imposter*100,2),round(fn/user*100,2))"
   ]
  },
  {
   "cell_type": "code",
   "execution_count": 215,
   "metadata": {
    "collapsed": false
   },
   "outputs": [
    {
     "name": "stdout",
     "output_type": "stream",
     "text": [
      "SUBJECT2: \n",
      " True-Positive = 51.39% \n",
      " False-Negative = 48.61% \n",
      " True-Negative = 99.95% \n",
      " False-Positive = 0.05%\n",
      "SUBJECT3: \n",
      " True-Positive = 59.42% \n",
      " False-Negative = 40.58% \n",
      " True-Negative = 99.93% \n",
      " False-Positive = 0.07%\n",
      "SUBJECT4: \n",
      " True-Positive = 67.12% \n",
      " False-Negative = 32.88% \n",
      " True-Negative = 100.0% \n",
      " False-Positive = 0.0%\n",
      "SUBJECT5: \n",
      " True-Positive = 83.56% \n",
      " False-Negative = 16.44% \n",
      " True-Negative = 99.93% \n",
      " False-Positive = 0.07%\n"
     ]
    },
    {
     "ename": "ValueError",
     "evalue": "The number of classes has to be greater than one; got 1",
     "output_type": "error",
     "traceback": [
      "\u001b[0;31m---------------------------------------------------------------------------\u001b[0m",
      "\u001b[0;31mValueError\u001b[0m                                Traceback (most recent call last)",
      "\u001b[0;32m<ipython-input-215-d9cc4df4393c>\u001b[0m in \u001b[0;36m<module>\u001b[0;34m()\u001b[0m\n\u001b[1;32m      6\u001b[0m \u001b[0;34m\u001b[0m\u001b[0m\n\u001b[1;32m      7\u001b[0m     \u001b[0mclf\u001b[0m \u001b[0;34m=\u001b[0m \u001b[0msvm\u001b[0m\u001b[0;34m.\u001b[0m\u001b[0mSVC\u001b[0m\u001b[0;34m(\u001b[0m\u001b[0;34m)\u001b[0m\u001b[0;34m\u001b[0m\u001b[0m\n\u001b[0;32m----> 8\u001b[0;31m     \u001b[0mclf\u001b[0m\u001b[0;34m.\u001b[0m\u001b[0mfit\u001b[0m\u001b[0;34m(\u001b[0m\u001b[0mX_train\u001b[0m\u001b[0;34m,\u001b[0m\u001b[0mY_train\u001b[0m\u001b[0;34m)\u001b[0m\u001b[0;34m\u001b[0m\u001b[0m\n\u001b[0m\u001b[1;32m      9\u001b[0m \u001b[0;34m\u001b[0m\u001b[0m\n\u001b[1;32m     10\u001b[0m     \u001b[0mscores\u001b[0m \u001b[0;34m=\u001b[0m \u001b[0mscore_complex\u001b[0m\u001b[0;34m(\u001b[0m\u001b[0mclf\u001b[0m\u001b[0;34m,\u001b[0m\u001b[0mX_test\u001b[0m\u001b[0;34m,\u001b[0m\u001b[0mY_test\u001b[0m\u001b[0;34m)\u001b[0m\u001b[0;34m\u001b[0m\u001b[0m\n",
      "\u001b[0;32m/Users/justin/anaconda/lib/python3.5/site-packages/sklearn/svm/base.py\u001b[0m in \u001b[0;36mfit\u001b[0;34m(self, X, y, sample_weight)\u001b[0m\n\u001b[1;32m    149\u001b[0m \u001b[0;34m\u001b[0m\u001b[0m\n\u001b[1;32m    150\u001b[0m         \u001b[0mX\u001b[0m \u001b[0;34m=\u001b[0m \u001b[0mcheck_array\u001b[0m\u001b[0;34m(\u001b[0m\u001b[0mX\u001b[0m\u001b[0;34m,\u001b[0m \u001b[0maccept_sparse\u001b[0m\u001b[0;34m=\u001b[0m\u001b[0;34m'csr'\u001b[0m\u001b[0;34m,\u001b[0m \u001b[0mdtype\u001b[0m\u001b[0;34m=\u001b[0m\u001b[0mnp\u001b[0m\u001b[0;34m.\u001b[0m\u001b[0mfloat64\u001b[0m\u001b[0;34m,\u001b[0m \u001b[0morder\u001b[0m\u001b[0;34m=\u001b[0m\u001b[0;34m'C'\u001b[0m\u001b[0;34m)\u001b[0m\u001b[0;34m\u001b[0m\u001b[0m\n\u001b[0;32m--> 151\u001b[0;31m         \u001b[0my\u001b[0m \u001b[0;34m=\u001b[0m \u001b[0mself\u001b[0m\u001b[0;34m.\u001b[0m\u001b[0m_validate_targets\u001b[0m\u001b[0;34m(\u001b[0m\u001b[0my\u001b[0m\u001b[0;34m)\u001b[0m\u001b[0;34m\u001b[0m\u001b[0m\n\u001b[0m\u001b[1;32m    152\u001b[0m \u001b[0;34m\u001b[0m\u001b[0m\n\u001b[1;32m    153\u001b[0m         sample_weight = np.asarray([]\n",
      "\u001b[0;32m/Users/justin/anaconda/lib/python3.5/site-packages/sklearn/svm/base.py\u001b[0m in \u001b[0;36m_validate_targets\u001b[0;34m(self, y)\u001b[0m\n\u001b[1;32m    519\u001b[0m             raise ValueError(\n\u001b[1;32m    520\u001b[0m                 \u001b[0;34m\"The number of classes has to be greater than one; got %d\"\u001b[0m\u001b[0;34m\u001b[0m\u001b[0m\n\u001b[0;32m--> 521\u001b[0;31m                 % len(cls))\n\u001b[0m\u001b[1;32m    522\u001b[0m \u001b[0;34m\u001b[0m\u001b[0m\n\u001b[1;32m    523\u001b[0m         \u001b[0mself\u001b[0m\u001b[0;34m.\u001b[0m\u001b[0mclasses_\u001b[0m \u001b[0;34m=\u001b[0m \u001b[0mcls\u001b[0m\u001b[0;34m\u001b[0m\u001b[0m\n",
      "\u001b[0;31mValueError\u001b[0m: The number of classes has to be greater than one; got 1"
     ]
    }
   ],
   "source": [
    "for i in [x for x in range(2,58) if x in Y]:\n",
    "\n",
    "    Y = df['subject'].apply(lambda x: int(x[-2:])).apply(lambda x: 1 if x == i else 0)\n",
    "\n",
    "    X_train, X_test, Y_train, Y_test = cross_validation.train_test_split(X, Y, test_size=0.2, random_state=42)\n",
    "\n",
    "    clf = svm.SVC()\n",
    "    clf.fit(X_train,Y_train)\n",
    "\n",
    "    scores = score_complex(clf,X_test,Y_test)\n",
    "\n",
    "    print('SUBJECT' + str(i) + ': \\n True-Positive = ' + str(scores[0]) + '% \\n False-Negative = ' + str(scores[3]) + '% \\n True-Negative = ' + str(scores[1]) + '% \\n False-Positive = ' + str(scores[2]) + '%')"
   ]
  },
  {
   "cell_type": "code",
   "execution_count": null,
   "metadata": {
    "collapsed": true
   },
   "outputs": [],
   "source": []
  }
 ],
 "metadata": {
  "kernelspec": {
   "display_name": "Python 3",
   "language": "python",
   "name": "python3"
  },
  "language_info": {
   "codemirror_mode": {
    "name": "ipython",
    "version": 3
   },
   "file_extension": ".py",
   "mimetype": "text/x-python",
   "name": "python",
   "nbconvert_exporter": "python",
   "pygments_lexer": "ipython3",
   "version": "3.5.1"
  }
 },
 "nbformat": 4,
 "nbformat_minor": 0
}
